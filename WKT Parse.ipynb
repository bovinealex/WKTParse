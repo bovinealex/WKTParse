{
 "cells": [
  {
   "cell_type": "code",
   "execution_count": 1,
   "metadata": {},
   "outputs": [],
   "source": [
    "import csv\n",
    "import sys\n",
    "\n",
    "#this is here because the size of the text file is so large\n",
    "#it basically circumvents the field limit error that arises when a file this large is used\n",
    "maxInt = sys.maxsize\n",
    "decrement = True\n",
    "\n",
    "while decrement:\n",
    "\n",
    "    decrement = False\n",
    "    try:\n",
    "        csv.field_size_limit(maxInt)\n",
    "    except OverflowError:            \n",
    "        maxInt = int(maxInt/10)\n",
    "        decrement = True"
   ]
  },
  {
   "cell_type": "code",
   "execution_count": 2,
   "metadata": {},
   "outputs": [],
   "source": [
    "with open('multipolygons.txt', 'r') as AllWKT: \n",
    "    content = AllWKT.read()\n",
    "value = content\n",
    "\n",
    "location = -1\n",
    "end = []\n",
    "start = []\n",
    "while True:    #creates a list of end locations\n",
    "    \n",
    "    location = value.find(\")))\", location + 1)\n",
    "    if location == -1: break\n",
    "    end.append(location)\n",
    "    \n",
    "    \n",
    "while True:    #creates a list of start locations\n",
    "\n",
    "    location = value.find(\"MULTIPOLYGON\", location + 1)\n",
    "    if location == -1: break\n",
    "    start.append(location)"
   ]
  },
  {
   "cell_type": "code",
   "execution_count": 3,
   "metadata": {},
   "outputs": [],
   "source": [
    "\n",
    "for i in range(len(start)):                     #will create individual multipolygon files for each of the sets stored in the larger file\n",
    "\n",
    "    start_index = start[i]\n",
    "    end_index = end[i]\n",
    "    nameend = content.find('\"MULT', end_index)    #basically the place where the next set of multipolygons starts\n",
    "    name = content[end_index + 5:nameend]      #the name of the location is sotred between the end of one multipoly and the start of the other\n",
    "    with open(name + '.txt', 'w') as myfile:\n",
    "        myfile.write(content[start_index:end_index + 3])"
   ]
  },
  {
   "cell_type": "code",
   "execution_count": null,
   "metadata": {},
   "outputs": [],
   "source": []
  }
 ],
 "metadata": {
  "kernelspec": {
   "display_name": "Python 3",
   "language": "python",
   "name": "python3"
  },
  "language_info": {
   "codemirror_mode": {
    "name": "ipython",
    "version": 3
   },
   "file_extension": ".py",
   "mimetype": "text/x-python",
   "name": "python",
   "nbconvert_exporter": "python",
   "pygments_lexer": "ipython3",
   "version": "3.6.5"
  }
 },
 "nbformat": 4,
 "nbformat_minor": 2
}
